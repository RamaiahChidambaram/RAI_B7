{
 "cells": [
  {
   "cell_type": "code",
   "execution_count": 1,
   "id": "8e269a01",
   "metadata": {},
   "outputs": [
    {
     "name": "stdout",
     "output_type": "stream",
     "text": [
      "Please select the operation.\n",
      "a. Add\n",
      "b. Subtract\n",
      "c. Multiply\n",
      "d. Divide\n",
      "Please enter choice (a/ b/ c/ d): a\n",
      "Please enter the first number: 1\n",
      "Please enter the second number: 2\n",
      "1  +  2  =  3\n"
     ]
    }
   ],
   "source": [
    "    def add(P, Q):    \n",
    "       return P + Q   \n",
    "    def subtract(P, Q):   \n",
    "       return P - Q   \n",
    "    def multiply(P, Q):   \n",
    "       return P * Q   \n",
    "    def divide(P, Q):     \n",
    "       return P / Q   \n",
    "    print (\"Please select the operation.\")    \n",
    "    print (\"a. Add\")    \n",
    "    print (\"b. Subtract\")    \n",
    "    print (\"c. Multiply\")    \n",
    "    print (\"d. Divide\")    \n",
    "        \n",
    "    choice = input(\"Please enter choice (a/ b/ c/ d): \")    \n",
    "        \n",
    "    num_1 = int (input (\"Please enter the first number: \"))    \n",
    "    num_2 = int (input (\"Please enter the second number: \"))    \n",
    "        \n",
    "    if choice == 'a':    \n",
    "       print (num_1, \" + \", num_2, \" = \", add(num_1, num_2))    \n",
    "        \n",
    "    elif choice == 'b':    \n",
    "       print (num_1, \" - \", num_2, \" = \", subtract(num_1, num_2))    \n",
    "        \n",
    "    elif choice == 'c':    \n",
    "       print (num1, \" * \", num2, \" = \", multiply(num1, num2))    \n",
    "    elif choice == 'd':    \n",
    "       print (num_1, \" / \", num_2, \" = \", divide(num_1, num_2))    \n",
    "    else:    \n",
    "       print (\"This is an invalid input\")    "
   ]
  },
  {
   "cell_type": "code",
   "execution_count": null,
   "id": "8eb9fe9a",
   "metadata": {},
   "outputs": [],
   "source": []
  }
 ],
 "metadata": {
  "kernelspec": {
   "display_name": "Python 3 (ipykernel)",
   "language": "python",
   "name": "python3"
  },
  "language_info": {
   "codemirror_mode": {
    "name": "ipython",
    "version": 3
   },
   "file_extension": ".py",
   "mimetype": "text/x-python",
   "name": "python",
   "nbconvert_exporter": "python",
   "pygments_lexer": "ipython3",
   "version": "3.10.9"
  }
 },
 "nbformat": 4,
 "nbformat_minor": 5
}
