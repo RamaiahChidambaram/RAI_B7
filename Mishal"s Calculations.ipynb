{
 "cells": [
  {
   "cell_type": "markdown",
   "id": "63df5c22",
   "metadata": {},
   "source": [
    "# Performing basic Calculation for 2 numbers\n",
    "## Function For calculator\n"
   ]
  },
  {
   "cell_type": "code",
   "execution_count": 2,
   "id": "e42d3c6d",
   "metadata": {},
   "outputs": [],
   "source": [
    "def adding(a,b):\n",
    "    print(\"The sum is :\",a+b)\n",
    "def subracting(a,b):\n",
    "    print(\"The sum is :\",a-b)\n",
    "def multiplying(a,b):\n",
    "    print(\"the product is :\",a*b)\n",
    "def dividing(a,b):\n",
    "    print(\"The quotient is :\",a/b)"
   ]
  },
  {
   "cell_type": "markdown",
   "id": "1bbc83ea",
   "metadata": {},
   "source": [
    "# Getting User Input"
   ]
  },
  {
   "cell_type": "code",
   "execution_count": 7,
   "id": "924981d3",
   "metadata": {},
   "outputs": [
    {
     "name": "stdout",
     "output_type": "stream",
     "text": [
      "Enter a number :5\n",
      "enter a number:2\n"
     ]
    }
   ],
   "source": [
    "# Storing user input\n",
    "num1=int(input(\"Enter a number :\"))\n",
    "num2=int(input(\"enter a number:\"))\n"
   ]
  },
  {
   "cell_type": "markdown",
   "id": "916571b7",
   "metadata": {},
   "source": [
    "# user choice"
   ]
  },
  {
   "cell_type": "code",
   "execution_count": 8,
   "id": "b6d9edb6",
   "metadata": {},
   "outputs": [
    {
     "name": "stdout",
     "output_type": "stream",
     "text": [
      "Enter your choice \n",
      " 1. Addition \n",
      " 2. subraction \n",
      " 3.multiplication \n",
      " 4. Divison\n",
      "enter:3\n"
     ]
    }
   ],
   "source": [
    "print(\"Enter your choice \\n 1. Addition \\n 2. subraction \\n 3.multiplication \\n 4. Divison\")\n",
    "choice=int(input(\"enter:\"))"
   ]
  },
  {
   "cell_type": "markdown",
   "id": "5882c198",
   "metadata": {},
   "source": [
    "# Execution"
   ]
  },
  {
   "cell_type": "code",
   "execution_count": 10,
   "id": "2d725615",
   "metadata": {},
   "outputs": [
    {
     "name": "stdout",
     "output_type": "stream",
     "text": [
      "the product is : 10\n"
     ]
    }
   ],
   "source": [
    "if(choice==1):\n",
    "    adding(num1,num2)\n",
    "elif(choice==2):\n",
    "    subracting(num1,num2)\n",
    "elif(choice==3):\n",
    "    multiplying(num1,num2)\n",
    "elif(choice==4):\n",
    "    dividing(num1,num2)\n",
    "else:\n",
    "    print(\"Invalid Choice\")"
   ]
  },
  {
   "cell_type": "code",
   "execution_count": null,
   "id": "7ac3ba5c",
   "metadata": {},
   "outputs": [],
   "source": []
  }
 ],
 "metadata": {
  "kernelspec": {
   "display_name": "Python 3 (ipykernel)",
   "language": "python",
   "name": "python3"
  },
  "language_info": {
   "codemirror_mode": {
    "name": "ipython",
    "version": 3
   },
   "file_extension": ".py",
   "mimetype": "text/x-python",
   "name": "python",
   "nbconvert_exporter": "python",
   "pygments_lexer": "ipython3",
   "version": "3.10.9"
  }
 },
 "nbformat": 4,
 "nbformat_minor": 5
}
