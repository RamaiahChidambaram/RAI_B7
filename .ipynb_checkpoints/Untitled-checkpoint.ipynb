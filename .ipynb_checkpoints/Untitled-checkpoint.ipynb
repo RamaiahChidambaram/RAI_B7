{
 "cells": [
  {
   "cell_type": "markdown",
   "id": "a334883b",
   "metadata": {},
   "source": [
    "# Simple Calculator\n"
   ]
  },
  {
   "cell_type": "markdown",
   "id": "d93c9834",
   "metadata": {},
   "source": [
    "creating a function using if else case to do the operations."
   ]
  },
  {
   "cell_type": "code",
   "execution_count": null,
   "id": "8a3a2b40",
   "metadata": {},
   "outputs": [],
   "source": [
    "def cal_fun(a,b,c):\n",
    "    if(c=='+'):\n",
    "        print(a,\"+\",b,\"=\",a+b)\n",
    "    elif(c=='-'):\n",
    "        print(a,\"-\",b,\"=\",a-b)\n",
    "    elif(c=='*'):\n",
    "        print(a,\"*\",b,\"=\",a*b)\n",
    "    elif(c=='/'):\n",
    "        print(a,\"/\",b,\"=\",a/b)\n",
    "    else:\n",
    "        print(\"invalid choice.\")"
   ]
  },
  {
   "cell_type": "markdown",
   "id": "dbe9d264",
   "metadata": {},
   "source": [
    "getting the 2 inputs from user(a,b)"
   ]
  },
  {
   "cell_type": "code",
   "execution_count": null,
   "id": "fd36048c",
   "metadata": {},
   "outputs": [],
   "source": [
    "n1=int(input(\"enter the first number:\"))\n",
    "n1"
   ]
  },
  {
   "cell_type": "code",
   "execution_count": null,
   "id": "e74a826f",
   "metadata": {},
   "outputs": [],
   "source": [
    "n2=int(input(\"enter the first number:\"))"
   ]
  },
  {
   "cell_type": "markdown",
   "id": "b6986040",
   "metadata": {},
   "source": [
    "getting the choice from user"
   ]
  },
  {
   "cell_type": "code",
   "execution_count": null,
   "id": "976635cd",
   "metadata": {},
   "outputs": [],
   "source": [
    "ch=input(\"enter your choice(+,-,*,/): \")"
   ]
  },
  {
   "cell_type": "markdown",
   "id": "63d96e9e",
   "metadata": {},
   "source": [
    "calling the function created below for execution."
   ]
  },
  {
   "cell_type": "code",
   "execution_count": null,
   "id": "eaadacdc",
   "metadata": {},
   "outputs": [],
   "source": [
    "cal_fun(n1,n2,ch)"
   ]
  },
  {
   "cell_type": "code",
   "execution_count": null,
   "id": "b77705af",
   "metadata": {},
   "outputs": [],
   "source": []
  }
 ],
 "metadata": {
  "kernelspec": {
   "display_name": "Python 3 (ipykernel)",
   "language": "python",
   "name": "python3"
  },
  "language_info": {
   "codemirror_mode": {
    "name": "ipython",
    "version": 3
   },
   "file_extension": ".py",
   "mimetype": "text/x-python",
   "name": "python",
   "nbconvert_exporter": "python",
   "pygments_lexer": "ipython3",
   "version": "3.10.9"
  }
 },
 "nbformat": 4,
 "nbformat_minor": 5
}
