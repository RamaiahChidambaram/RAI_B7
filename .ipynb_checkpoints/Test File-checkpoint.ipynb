{
 "cells": [
  {
   "cell_type": "code",
   "execution_count": 1,
   "id": "fe25ba83",
   "metadata": {},
   "outputs": [],
   "source": [
    "a = 10"
   ]
  },
  {
   "cell_type": "code",
   "execution_count": 5,
   "id": "86a4b11b",
   "metadata": {},
   "outputs": [],
   "source": [
    "b = a*5"
   ]
  },
  {
   "cell_type": "code",
   "execution_count": 6,
   "id": "1c6636f0",
   "metadata": {},
   "outputs": [
    {
     "data": {
      "text/plain": [
       "200"
      ]
     },
     "execution_count": 6,
     "metadata": {},
     "output_type": "execute_result"
    }
   ],
   "source": [
    "b"
   ]
  },
  {
   "cell_type": "code",
   "execution_count": 8,
   "id": "c22f9acd",
   "metadata": {},
   "outputs": [],
   "source": [
    "#I'm changing 'a' value here\n",
    "a = 40"
   ]
  },
  {
   "cell_type": "markdown",
   "id": "7220edd3",
   "metadata": {},
   "source": [
    "# Heading 1\n",
    "\n",
    "## Heading 2\n",
    "\n",
    "jhfhgfkhg"
   ]
  },
  {
   "cell_type": "code",
   "execution_count": null,
   "id": "8e3bcde4",
   "metadata": {},
   "outputs": [],
   "source": []
  }
 ],
 "metadata": {
  "kernelspec": {
   "display_name": "Python 3 (ipykernel)",
   "language": "python",
   "name": "python3"
  },
  "language_info": {
   "codemirror_mode": {
    "name": "ipython",
    "version": 3
   },
   "file_extension": ".py",
   "mimetype": "text/x-python",
   "name": "python",
   "nbconvert_exporter": "python",
   "pygments_lexer": "ipython3",
   "version": "3.10.9"
  }
 },
 "nbformat": 4,
 "nbformat_minor": 5
}
