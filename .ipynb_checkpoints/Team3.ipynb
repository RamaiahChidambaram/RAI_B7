{
 "cells": [
  {
   "cell_type": "markdown",
   "id": "0a5c63c3",
   "metadata": {},
   "source": [
    "# simple calculator"
   ]
  },
  {
   "cell_type": "markdown",
   "id": "6265af66",
   "metadata": {},
   "source": [
    "### creaing a function"
   ]
  },
  {
   "cell_type": "code",
   "execution_count": 7,
   "id": "7988763f",
   "metadata": {},
   "outputs": [],
   "source": [
    "def cal(a,b,ch):\n",
    "    if(ch=='+'):\n",
    "        print(a,\"+\",b,\"=\",a+b)\n",
    "    elif(ch=='-'):\n",
    "        print(a,\"-\",b,\"=\",a-b)\n",
    "    elif(ch=='*'):\n",
    "        print(a,\"*\",b,\"=\",a*b)\n",
    "    elif(ch=='/'):\n",
    "        print(a,\"/\",b,\"=\",a/b)\n",
    "    else:\n",
    "        print(\"invalid choice\")\n",
    "        "
   ]
  },
  {
   "cell_type": "markdown",
   "id": "09e243f9",
   "metadata": {},
   "source": [
    "### Getting the inputs from the users"
   ]
  },
  {
   "cell_type": "code",
   "execution_count": 2,
   "id": "959507ec",
   "metadata": {},
   "outputs": [
    {
     "name": "stdout",
     "output_type": "stream",
     "text": [
      "enter the first number3\n"
     ]
    }
   ],
   "source": [
    "n1=int(input(\"enter the first number\"))"
   ]
  },
  {
   "cell_type": "code",
   "execution_count": 3,
   "id": "4d57c6ba",
   "metadata": {},
   "outputs": [
    {
     "name": "stdout",
     "output_type": "stream",
     "text": [
      "enter the second number5\n"
     ]
    }
   ],
   "source": [
    "n2=int(input(\"enter the second number\"))"
   ]
  },
  {
   "cell_type": "markdown",
   "id": "71143c02",
   "metadata": {},
   "source": [
    "### Getting choice from user"
   ]
  },
  {
   "cell_type": "code",
   "execution_count": 5,
   "id": "c26c2c5b",
   "metadata": {},
   "outputs": [
    {
     "name": "stdout",
     "output_type": "stream",
     "text": [
      "enter your choice(+,-,*,/): +\n"
     ]
    }
   ],
   "source": [
    "c=input(\"enter your choice(+,-,*,/): \")"
   ]
  },
  {
   "cell_type": "markdown",
   "id": "4a1e607b",
   "metadata": {},
   "source": [
    "### calling the function "
   ]
  },
  {
   "cell_type": "code",
   "execution_count": 8,
   "id": "973386fc",
   "metadata": {},
   "outputs": [
    {
     "name": "stdout",
     "output_type": "stream",
     "text": [
      "3 + 5 = 8\n"
     ]
    }
   ],
   "source": [
    "cal(n1,n2,c)"
   ]
  }
 ],
 "metadata": {
  "kernelspec": {
   "display_name": "Python 3 (ipykernel)",
   "language": "python",
   "name": "python3"
  },
  "language_info": {
   "codemirror_mode": {
    "name": "ipython",
    "version": 3
   },
   "file_extension": ".py",
   "mimetype": "text/x-python",
   "name": "python",
   "nbconvert_exporter": "python",
   "pygments_lexer": "ipython3",
   "version": "3.10.9"
  }
 },
 "nbformat": 4,
 "nbformat_minor": 5
}
