{
 "cells": [
  {
   "cell_type": "code",
   "execution_count": null,
   "id": "8798ec80",
   "metadata": {},
   "outputs": [],
   "source": [
    "#program for calculator\n",
    "def calculator():\n",
    "    while True:\n",
    "        print(\"Enter '+' to add \")\n",
    "        print(\"Enter '-' to subtract \")\n",
    "        print(\"Enter '*' to multiply \")\n",
    "        print(\"Enter '/' to divide \")\n",
    "        print(\"Enter ' exit' to end\")\n",
    "        user_input = input(\": \")\n",
    "        if user_input == \"quit\":\n",
    "            break\n",
    "        elif user_input in [\"+\", \"-\", \"*\", \"/\"]:\n",
    "            num1 = float(input(\"Enter a number: \"))\n",
    "            num2 = float(input(\"Enter another number: \"))\n",
    "            if user_input == \"+\":\n",
    "                result = num1 + num2\n",
    "                print(num1, \"+\", num2, \"=\", result)\n",
    "\n",
    "            elif user_input == \"-\":\n",
    "                result = num1 - num2\n",
    "                print(num1, \"-\", num2, \"=\", result)\n",
    "\n",
    "            elif user_input == \"*\":\n",
    "                result = num1 * num2\n",
    "                print(num1, \"*\", num2, \"=\", result)\n",
    "\n",
    "            elif user_input == \"/\":\n",
    "                result = num1 / num2\n",
    "                print(num1, \"/\", num2, \"=\", result)\n",
    "        else:\n",
    "            print(\"Invalid Input\")\n",
    "\n",
    "calculator()"
   ]
  }
 ],
 "metadata": {
  "kernelspec": {
   "display_name": "Python 3 (ipykernel)",
   "language": "python",
   "name": "python3"
  },
  "language_info": {
   "codemirror_mode": {
    "name": "ipython",
    "version": 3
   },
   "file_extension": ".py",
   "mimetype": "text/x-python",
   "name": "python",
   "nbconvert_exporter": "python",
   "pygments_lexer": "ipython3",
   "version": "3.10.9"
  }
 },
 "nbformat": 4,
 "nbformat_minor": 5
}
